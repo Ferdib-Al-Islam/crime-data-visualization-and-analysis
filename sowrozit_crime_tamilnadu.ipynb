{
  "nbformat": 4,
  "nbformat_minor": 0,
  "metadata": {
    "colab": {
      "name": "sowrozit-crime-tamilnadu.ipynb",
      "provenance": [],
      "collapsed_sections": []
    },
    "kernelspec": {
      "name": "python3",
      "display_name": "Python 3"
    }
  },
  "cells": [
    {
      "cell_type": "code",
      "metadata": {
        "id": "VV44pRcMtMXE",
        "colab_type": "code",
        "colab": {}
      },
      "source": [
        "# Import necessry libaries\n",
        "\n",
        "import pandas as pd\n",
        "from sklearn.cluster import KMeans\n",
        "import matplotlib.pyplot as plt\n",
        "from sklearn.preprocessing import scale\n",
        "from sklearn.preprocessing import LabelEncoder\n",
        "from numpy import random, float, array\n",
        "import numpy as np\n",
        "import seaborn as sns"
      ],
      "execution_count": 0,
      "outputs": []
    },
    {
      "cell_type": "code",
      "metadata": {
        "id": "MJKZYbIstUqX",
        "colab_type": "code",
        "colab": {}
      },
      "source": [
        "# load dataset\n",
        "data = pd.read_csv('TamilNadu_Crime_Data_2001_2012.csv')"
      ],
      "execution_count": 0,
      "outputs": []
    },
    {
      "cell_type": "code",
      "metadata": {
        "id": "_579k32Ttbya",
        "colab_type": "code",
        "colab": {
          "base_uri": "https://localhost:8080/",
          "height": 35
        },
        "outputId": "1ba8fd00-7202-4465-ea11-c32285e227ef"
      },
      "source": [
        "# dataset shape\n",
        "\n",
        "data.shape"
      ],
      "execution_count": 33,
      "outputs": [
        {
          "output_type": "execute_result",
          "data": {
            "text/plain": [
              "(1440, 7)"
            ]
          },
          "metadata": {
            "tags": []
          },
          "execution_count": 33
        }
      ]
    },
    {
      "cell_type": "code",
      "metadata": {
        "id": "wp22ek3ltU0h",
        "colab_type": "code",
        "colab": {
          "base_uri": "https://localhost:8080/",
          "height": 237
        },
        "outputId": "8f37afe9-48e8-44f8-d7eb-8e38e9b7884e"
      },
      "source": [
        "# datadest information\n",
        "\n",
        "data.info()"
      ],
      "execution_count": 3,
      "outputs": [
        {
          "output_type": "stream",
          "text": [
            "<class 'pandas.core.frame.DataFrame'>\n",
            "RangeIndex: 1440 entries, 0 to 1439\n",
            "Data columns (total 7 columns):\n",
            "CRIME_YEAR                           1440 non-null int64\n",
            "CRIME_STATE                          1440 non-null object\n",
            "CRIME_CITY                           1440 non-null object\n",
            "CRIME_CITY_LATTITUDE                 1440 non-null float64\n",
            "CRIME_CITY_LONGTITUDE                1440 non-null float64\n",
            "CRIME_TYPE                           1440 non-null object\n",
            "NUMBER_OF_CRIME_IN_THE_CRIME_TYPE    1440 non-null int64\n",
            "dtypes: float64(2), int64(2), object(3)\n",
            "memory usage: 78.9+ KB\n"
          ],
          "name": "stdout"
        }
      ]
    },
    {
      "cell_type": "code",
      "metadata": {
        "id": "vBZa_N3ptU5c",
        "colab_type": "code",
        "colab": {
          "base_uri": "https://localhost:8080/",
          "height": 300
        },
        "outputId": "d48982a7-53ca-4f40-c644-a9dddc6c688d"
      },
      "source": [
        "# dataset statistical description\n",
        "\n",
        "data.describe()"
      ],
      "execution_count": 4,
      "outputs": [
        {
          "output_type": "execute_result",
          "data": {
            "text/html": [
              "<div>\n",
              "<style scoped>\n",
              "    .dataframe tbody tr th:only-of-type {\n",
              "        vertical-align: middle;\n",
              "    }\n",
              "\n",
              "    .dataframe tbody tr th {\n",
              "        vertical-align: top;\n",
              "    }\n",
              "\n",
              "    .dataframe thead th {\n",
              "        text-align: right;\n",
              "    }\n",
              "</style>\n",
              "<table border=\"1\" class=\"dataframe\">\n",
              "  <thead>\n",
              "    <tr style=\"text-align: right;\">\n",
              "      <th></th>\n",
              "      <th>CRIME_YEAR</th>\n",
              "      <th>CRIME_CITY_LATTITUDE</th>\n",
              "      <th>CRIME_CITY_LONGTITUDE</th>\n",
              "      <th>NUMBER_OF_CRIME_IN_THE_CRIME_TYPE</th>\n",
              "    </tr>\n",
              "  </thead>\n",
              "  <tbody>\n",
              "    <tr>\n",
              "      <th>count</th>\n",
              "      <td>1440.000000</td>\n",
              "      <td>1440.000000</td>\n",
              "      <td>1440.000000</td>\n",
              "      <td>1440.000000</td>\n",
              "    </tr>\n",
              "    <tr>\n",
              "      <th>mean</th>\n",
              "      <td>2006.500000</td>\n",
              "      <td>11.227500</td>\n",
              "      <td>78.388950</td>\n",
              "      <td>178.763194</td>\n",
              "    </tr>\n",
              "    <tr>\n",
              "      <th>std</th>\n",
              "      <td>3.453252</td>\n",
              "      <td>1.553465</td>\n",
              "      <td>1.063606</td>\n",
              "      <td>398.961224</td>\n",
              "    </tr>\n",
              "    <tr>\n",
              "      <th>min</th>\n",
              "      <td>2001.000000</td>\n",
              "      <td>8.741200</td>\n",
              "      <td>76.955800</td>\n",
              "      <td>0.000000</td>\n",
              "    </tr>\n",
              "    <tr>\n",
              "      <th>25%</th>\n",
              "      <td>2003.750000</td>\n",
              "      <td>9.925200</td>\n",
              "      <td>77.694600</td>\n",
              "      <td>10.000000</td>\n",
              "    </tr>\n",
              "    <tr>\n",
              "      <th>50%</th>\n",
              "      <td>2006.500000</td>\n",
              "      <td>11.340550</td>\n",
              "      <td>78.132900</td>\n",
              "      <td>43.000000</td>\n",
              "    </tr>\n",
              "    <tr>\n",
              "      <th>75%</th>\n",
              "      <td>2009.250000</td>\n",
              "      <td>12.934900</td>\n",
              "      <td>79.146800</td>\n",
              "      <td>125.500000</td>\n",
              "    </tr>\n",
              "    <tr>\n",
              "      <th>max</th>\n",
              "      <td>2012.000000</td>\n",
              "      <td>13.082600</td>\n",
              "      <td>80.270700</td>\n",
              "      <td>3779.000000</td>\n",
              "    </tr>\n",
              "  </tbody>\n",
              "</table>\n",
              "</div>"
            ],
            "text/plain": [
              "        CRIME_YEAR  ...  NUMBER_OF_CRIME_IN_THE_CRIME_TYPE\n",
              "count  1440.000000  ...                        1440.000000\n",
              "mean   2006.500000  ...                         178.763194\n",
              "std       3.453252  ...                         398.961224\n",
              "min    2001.000000  ...                           0.000000\n",
              "25%    2003.750000  ...                          10.000000\n",
              "50%    2006.500000  ...                          43.000000\n",
              "75%    2009.250000  ...                         125.500000\n",
              "max    2012.000000  ...                        3779.000000\n",
              "\n",
              "[8 rows x 4 columns]"
            ]
          },
          "metadata": {
            "tags": []
          },
          "execution_count": 4
        }
      ]
    },
    {
      "cell_type": "code",
      "metadata": {
        "id": "tIR7lDMmtUy8",
        "colab_type": "code",
        "colab": {
          "base_uri": "https://localhost:8080/",
          "height": 365
        },
        "outputId": "8d1c566d-0d5a-4db5-a13b-844c28f0b617"
      },
      "source": [
        "# dataset summary view\n",
        "\n",
        "data.head()"
      ],
      "execution_count": 5,
      "outputs": [
        {
          "output_type": "execute_result",
          "data": {
            "text/html": [
              "<div>\n",
              "<style scoped>\n",
              "    .dataframe tbody tr th:only-of-type {\n",
              "        vertical-align: middle;\n",
              "    }\n",
              "\n",
              "    .dataframe tbody tr th {\n",
              "        vertical-align: top;\n",
              "    }\n",
              "\n",
              "    .dataframe thead th {\n",
              "        text-align: right;\n",
              "    }\n",
              "</style>\n",
              "<table border=\"1\" class=\"dataframe\">\n",
              "  <thead>\n",
              "    <tr style=\"text-align: right;\">\n",
              "      <th></th>\n",
              "      <th>CRIME_YEAR</th>\n",
              "      <th>CRIME_STATE</th>\n",
              "      <th>CRIME_CITY</th>\n",
              "      <th>CRIME_CITY_LATTITUDE</th>\n",
              "      <th>CRIME_CITY_LONGTITUDE</th>\n",
              "      <th>CRIME_TYPE</th>\n",
              "      <th>NUMBER_OF_CRIME_IN_THE_CRIME_TYPE</th>\n",
              "    </tr>\n",
              "  </thead>\n",
              "  <tbody>\n",
              "    <tr>\n",
              "      <th>0</th>\n",
              "      <td>2001</td>\n",
              "      <td>TAMIL NADU</td>\n",
              "      <td>CHENNAI</td>\n",
              "      <td>13.0826</td>\n",
              "      <td>80.2707</td>\n",
              "      <td>MURDER</td>\n",
              "      <td>91</td>\n",
              "    </tr>\n",
              "    <tr>\n",
              "      <th>1</th>\n",
              "      <td>2001</td>\n",
              "      <td>TAMIL NADU</td>\n",
              "      <td>CHENNAI</td>\n",
              "      <td>13.0826</td>\n",
              "      <td>80.2707</td>\n",
              "      <td>ATTEMPT TO MURDER</td>\n",
              "      <td>298</td>\n",
              "    </tr>\n",
              "    <tr>\n",
              "      <th>2</th>\n",
              "      <td>2001</td>\n",
              "      <td>TAMIL NADU</td>\n",
              "      <td>CHENNAI</td>\n",
              "      <td>13.0826</td>\n",
              "      <td>80.2707</td>\n",
              "      <td>CULPABLE HOMICIDE NOT AMOUNTING TO MURDER</td>\n",
              "      <td>0</td>\n",
              "    </tr>\n",
              "    <tr>\n",
              "      <th>3</th>\n",
              "      <td>2001</td>\n",
              "      <td>TAMIL NADU</td>\n",
              "      <td>CHENNAI</td>\n",
              "      <td>13.0826</td>\n",
              "      <td>80.2707</td>\n",
              "      <td>RAPE</td>\n",
              "      <td>28</td>\n",
              "    </tr>\n",
              "    <tr>\n",
              "      <th>4</th>\n",
              "      <td>2001</td>\n",
              "      <td>TAMIL NADU</td>\n",
              "      <td>CHENNAI</td>\n",
              "      <td>13.0826</td>\n",
              "      <td>80.2707</td>\n",
              "      <td>OTHER RAPE</td>\n",
              "      <td>28</td>\n",
              "    </tr>\n",
              "  </tbody>\n",
              "</table>\n",
              "</div>"
            ],
            "text/plain": [
              "   CRIME_YEAR  ... NUMBER_OF_CRIME_IN_THE_CRIME_TYPE\n",
              "0        2001  ...                                91\n",
              "1        2001  ...                               298\n",
              "2        2001  ...                                 0\n",
              "3        2001  ...                                28\n",
              "4        2001  ...                                28\n",
              "\n",
              "[5 rows x 7 columns]"
            ]
          },
          "metadata": {
            "tags": []
          },
          "execution_count": 5
        }
      ]
    },
    {
      "cell_type": "code",
      "metadata": {
        "id": "raH7KQ7ltUxQ",
        "colab_type": "code",
        "colab": {
          "base_uri": "https://localhost:8080/",
          "height": 519
        },
        "outputId": "c034bc0c-0e36-48a8-f43b-d5f25bd772e0"
      },
      "source": [
        "# lineplot - no. of crimes vs year and city\n",
        "\n",
        "fig, ax = plt.subplots(figsize=(13,8))\n",
        "ax.set_xlabel('YEARS')\n",
        "ax.set_ylabel('NUMBER OF CRIMES')\n",
        "data.groupby(['CRIME_YEAR', 'CRIME_CITY']).sum()['NUMBER_OF_CRIME_IN_THE_CRIME_TYPE'].unstack().plot(ax=ax,style=['+-','o-','.--','s:', '*-', '.-'])\n"
      ],
      "execution_count": 31,
      "outputs": [
        {
          "output_type": "execute_result",
          "data": {
            "text/plain": [
              "<matplotlib.axes._subplots.AxesSubplot at 0x7f61e0403e80>"
            ]
          },
          "metadata": {
            "tags": []
          },
          "execution_count": 31
        },
        {
          "output_type": "display_data",
          "data": {
            "image/png": "[encoded data removed]",
            "text/plain": [
              "<Figure size 936x576 with 1 Axes>"
            ]
          },
          "metadata": {
            "tags": []
          }
        }
      ]
    },
    {
      "cell_type": "code",
      "metadata": {
        "id": "zDt3P5p8tUub",
        "colab_type": "code",
        "colab": {}
      },
      "source": [
        "le = LabelEncoder()\n",
        "# Iterating over all the common columns in train and test\n",
        "for col in data.columns.values:\n",
        "  # Encoding only categorical variables\n",
        "  if data[col].dtypes=='object':\n",
        "  # Using whole data to form an exhaustive list of levels\n",
        "    data_copy=data[col].append(data[col])\n",
        "    le.fit(data_copy.values)\n",
        "    data[col]=le.transform(data[col])"
      ],
      "execution_count": 0,
      "outputs": []
    },
    {
      "cell_type": "code",
      "metadata": {
        "id": "kF6dQmtvtUn5",
        "colab_type": "code",
        "colab": {
          "base_uri": "https://localhost:8080/",
          "height": 226
        },
        "outputId": "741df361-b3d8-4aa5-cc2d-6566b90f210e"
      },
      "source": [
        "# after label encoding\n",
        "\n",
        "data.head()\n"
      ],
      "execution_count": 43,
      "outputs": [
        {
          "output_type": "execute_result",
          "data": {
            "text/html": [
              "<div>\n",
              "<style scoped>\n",
              "    .dataframe tbody tr th:only-of-type {\n",
              "        vertical-align: middle;\n",
              "    }\n",
              "\n",
              "    .dataframe tbody tr th {\n",
              "        vertical-align: top;\n",
              "    }\n",
              "\n",
              "    .dataframe thead th {\n",
              "        text-align: right;\n",
              "    }\n",
              "</style>\n",
              "<table border=\"1\" class=\"dataframe\">\n",
              "  <thead>\n",
              "    <tr style=\"text-align: right;\">\n",
              "      <th></th>\n",
              "      <th>CRIME_YEAR</th>\n",
              "      <th>CRIME_STATE</th>\n",
              "      <th>CRIME_CITY</th>\n",
              "      <th>CRIME_CITY_LATTITUDE</th>\n",
              "      <th>CRIME_CITY_LONGTITUDE</th>\n",
              "      <th>CRIME_TYPE</th>\n",
              "      <th>NUMBER_OF_CRIME_IN_THE_CRIME_TYPE</th>\n",
              "    </tr>\n",
              "  </thead>\n",
              "  <tbody>\n",
              "    <tr>\n",
              "      <th>0</th>\n",
              "      <td>2001</td>\n",
              "      <td>0</td>\n",
              "      <td>0</td>\n",
              "      <td>13.0826</td>\n",
              "      <td>80.2707</td>\n",
              "      <td>14</td>\n",
              "      <td>91</td>\n",
              "    </tr>\n",
              "    <tr>\n",
              "      <th>1</th>\n",
              "      <td>2001</td>\n",
              "      <td>0</td>\n",
              "      <td>0</td>\n",
              "      <td>13.0826</td>\n",
              "      <td>80.2707</td>\n",
              "      <td>1</td>\n",
              "      <td>298</td>\n",
              "    </tr>\n",
              "    <tr>\n",
              "      <th>2</th>\n",
              "      <td>2001</td>\n",
              "      <td>0</td>\n",
              "      <td>0</td>\n",
              "      <td>13.0826</td>\n",
              "      <td>80.2707</td>\n",
              "      <td>7</td>\n",
              "      <td>0</td>\n",
              "    </tr>\n",
              "    <tr>\n",
              "      <th>3</th>\n",
              "      <td>2001</td>\n",
              "      <td>0</td>\n",
              "      <td>0</td>\n",
              "      <td>13.0826</td>\n",
              "      <td>80.2707</td>\n",
              "      <td>16</td>\n",
              "      <td>28</td>\n",
              "    </tr>\n",
              "    <tr>\n",
              "      <th>4</th>\n",
              "      <td>2001</td>\n",
              "      <td>0</td>\n",
              "      <td>0</td>\n",
              "      <td>13.0826</td>\n",
              "      <td>80.2707</td>\n",
              "      <td>15</td>\n",
              "      <td>28</td>\n",
              "    </tr>\n",
              "  </tbody>\n",
              "</table>\n",
              "</div>"
            ],
            "text/plain": [
              "   CRIME_YEAR  CRIME_STATE  ...  CRIME_TYPE  NUMBER_OF_CRIME_IN_THE_CRIME_TYPE\n",
              "0        2001            0  ...          14                                 91\n",
              "1        2001            0  ...           1                                298\n",
              "2        2001            0  ...           7                                  0\n",
              "3        2001            0  ...          16                                 28\n",
              "4        2001            0  ...          15                                 28\n",
              "\n",
              "[5 rows x 7 columns]"
            ]
          },
          "metadata": {
            "tags": []
          },
          "execution_count": 43
        }
      ]
    },
    {
      "cell_type": "code",
      "metadata": {
        "id": "q6qGhDE7yKRU",
        "colab_type": "code",
        "colab": {
          "base_uri": "https://localhost:8080/",
          "height": 237
        },
        "outputId": "6093d1aa-c79b-4ba3-9597-c70d34830b11"
      },
      "source": [
        "# after label encoding\n",
        "\n",
        "data.info()"
      ],
      "execution_count": 44,
      "outputs": [
        {
          "output_type": "stream",
          "text": [
            "<class 'pandas.core.frame.DataFrame'>\n",
            "RangeIndex: 1440 entries, 0 to 1439\n",
            "Data columns (total 7 columns):\n",
            "CRIME_YEAR                           1440 non-null int64\n",
            "CRIME_STATE                          1440 non-null int64\n",
            "CRIME_CITY                           1440 non-null int64\n",
            "CRIME_CITY_LATTITUDE                 1440 non-null float64\n",
            "CRIME_CITY_LONGTITUDE                1440 non-null float64\n",
            "CRIME_TYPE                           1440 non-null int64\n",
            "NUMBER_OF_CRIME_IN_THE_CRIME_TYPE    1440 non-null int64\n",
            "dtypes: float64(2), int64(5)\n",
            "memory usage: 78.9 KB\n"
          ],
          "name": "stdout"
        }
      ]
    },
    {
      "cell_type": "code",
      "metadata": {
        "id": "bDiThhyeyKo6",
        "colab_type": "code",
        "colab": {}
      },
      "source": [
        "X = data[['CRIME_YEAR', 'CRIME_CITY', 'CRIME_TYPE', 'NUMBER_OF_CRIME_IN_THE_CRIME_TYPE']]\n",
        "\n",
        "from sklearn.preprocessing import StandardScaler\n",
        "scaler = StandardScaler()\n",
        "X_scaled = scaler.fit_transform( X )\n",
        "cluster_range = range( 1, 9 )\n",
        "cluster_errors = []\n",
        "\n",
        "for num_clusters in cluster_range:\n",
        "  clusters = KMeans( num_clusters )\n",
        "  clusters.fit( X_scaled )\n",
        "  cluster_errors.append( clusters.inertia_ )\n",
        "\n",
        "clusters_df = pd.DataFrame( { \"num_clusters\":cluster_range, \"cluster_errors\": cluster_errors } )\n"
      ],
      "execution_count": 0,
      "outputs": []
    },
    {
      "cell_type": "code",
      "metadata": {
        "id": "PClhK0o5yKNm",
        "colab_type": "code",
        "colab": {
          "base_uri": "https://localhost:8080/",
          "height": 300
        },
        "outputId": "82d50665-a706-4768-fde1-098701044f22"
      },
      "source": [
        "clusters_df"
      ],
      "execution_count": 48,
      "outputs": [
        {
          "output_type": "execute_result",
          "data": {
            "text/html": [
              "<div>\n",
              "<style scoped>\n",
              "    .dataframe tbody tr th:only-of-type {\n",
              "        vertical-align: middle;\n",
              "    }\n",
              "\n",
              "    .dataframe tbody tr th {\n",
              "        vertical-align: top;\n",
              "    }\n",
              "\n",
              "    .dataframe thead th {\n",
              "        text-align: right;\n",
              "    }\n",
              "</style>\n",
              "<table border=\"1\" class=\"dataframe\">\n",
              "  <thead>\n",
              "    <tr style=\"text-align: right;\">\n",
              "      <th></th>\n",
              "      <th>num_clusters</th>\n",
              "      <th>cluster_errors</th>\n",
              "    </tr>\n",
              "  </thead>\n",
              "  <tbody>\n",
              "    <tr>\n",
              "      <th>0</th>\n",
              "      <td>1</td>\n",
              "      <td>5760.000000</td>\n",
              "    </tr>\n",
              "    <tr>\n",
              "      <th>1</th>\n",
              "      <td>2</td>\n",
              "      <td>4632.892610</td>\n",
              "    </tr>\n",
              "    <tr>\n",
              "      <th>2</th>\n",
              "      <td>3</td>\n",
              "      <td>3704.941349</td>\n",
              "    </tr>\n",
              "    <tr>\n",
              "      <th>3</th>\n",
              "      <td>4</td>\n",
              "      <td>3061.285055</td>\n",
              "    </tr>\n",
              "    <tr>\n",
              "      <th>4</th>\n",
              "      <td>5</td>\n",
              "      <td>2565.383229</td>\n",
              "    </tr>\n",
              "    <tr>\n",
              "      <th>5</th>\n",
              "      <td>6</td>\n",
              "      <td>2251.720343</td>\n",
              "    </tr>\n",
              "    <tr>\n",
              "      <th>6</th>\n",
              "      <td>7</td>\n",
              "      <td>1965.971382</td>\n",
              "    </tr>\n",
              "    <tr>\n",
              "      <th>7</th>\n",
              "      <td>8</td>\n",
              "      <td>1772.913738</td>\n",
              "    </tr>\n",
              "  </tbody>\n",
              "</table>\n",
              "</div>"
            ],
            "text/plain": [
              "   num_clusters  cluster_errors\n",
              "0             1     5760.000000\n",
              "1             2     4632.892610\n",
              "2             3     3704.941349\n",
              "3             4     3061.285055\n",
              "4             5     2565.383229\n",
              "5             6     2251.720343\n",
              "6             7     1965.971382\n",
              "7             8     1772.913738"
            ]
          },
          "metadata": {
            "tags": []
          },
          "execution_count": 48
        }
      ]
    }
  ]
}