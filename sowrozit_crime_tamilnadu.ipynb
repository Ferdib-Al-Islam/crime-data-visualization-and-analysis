{
  "nbformat": 4,
  "nbformat_minor": 0,
  "metadata": {
    "colab": {
      "name": "sowrozit_crime_tamilnadu.ipynb",
      "provenance": [],
      "collapsed_sections": []
    },
    "kernelspec": {
      "name": "python3",
      "display_name": "Python 3"
    }
  },
  "cells": [
    {
      "cell_type": "code",
      "metadata": {
        "id": "VV44pRcMtMXE",
        "colab_type": "code",
        "colab": {}
      },
      "source": [
        "# Import necessry libaries\n",
        "\n",
        "import pandas as pd\n",
        "from sklearn.cluster import KMeans\n",
        "import matplotlib.pyplot as plt\n",
        "from sklearn.preprocessing import scale\n",
        "from sklearn.preprocessing import LabelEncoder\n",
        "from sklearn.model_selection import train_test_split\n",
        "from sklearn.neighbors import KNeighborsClassifier\n",
        "from sklearn.metrics import confusion_matrix\n",
        "from sklearn.metrics import classification_report\n",
        "\n",
        "from numpy import random, float, array\n",
        "import numpy as np\n",
        "import seaborn as sns\n",
        "\n",
        "%matplotlib inline"
      ],
      "execution_count": 0,
      "outputs": []
    },
    {
      "cell_type": "code",
      "metadata": {
        "id": "MJKZYbIstUqX",
        "colab_type": "code",
        "colab": {}
      },
      "source": [
        "# load dataset\n",
        "data = pd.read_csv('TamilNadu_Crime_Data_2001_2012.csv')"
      ],
      "execution_count": 0,
      "outputs": []
    },
    {
      "cell_type": "code",
      "metadata": {
        "id": "_579k32Ttbya",
        "colab_type": "code",
        "outputId": "925d40f3-e7ef-4adb-f808-ce320a347e12",
        "colab": {
          "base_uri": "https://localhost:8080/",
          "height": 35
        }
      },
      "source": [
        "# dataset shape\n",
        "\n",
        "data.shape"
      ],
      "execution_count": 349,
      "outputs": [
        {
          "output_type": "execute_result",
          "data": {
            "text/plain": [
              "(1440, 7)"
            ]
          },
          "metadata": {
            "tags": []
          },
          "execution_count": 349
        }
      ]
    },
    {
      "cell_type": "code",
      "metadata": {
        "id": "wp22ek3ltU0h",
        "colab_type": "code",
        "outputId": "5f44bc87-9e21-41e7-eb51-14d9392dc48a",
        "colab": {
          "base_uri": "https://localhost:8080/",
          "height": 237
        }
      },
      "source": [
        "# datadest information\n",
        "\n",
        "data.info()"
      ],
      "execution_count": 350,
      "outputs": [
        {
          "output_type": "stream",
          "text": [
            "<class 'pandas.core.frame.DataFrame'>\n",
            "RangeIndex: 1440 entries, 0 to 1439\n",
            "Data columns (total 7 columns):\n",
            "CRIME_YEAR                           1440 non-null int64\n",
            "CRIME_STATE                          1440 non-null object\n",
            "CRIME_CITY                           1440 non-null object\n",
            "CRIME_CITY_LATTITUDE                 1440 non-null float64\n",
            "CRIME_CITY_LONGTITUDE                1440 non-null float64\n",
            "CRIME_TYPE                           1440 non-null object\n",
            "NUMBER_OF_CRIME_IN_THE_CRIME_TYPE    1440 non-null int64\n",
            "dtypes: float64(2), int64(2), object(3)\n",
            "memory usage: 78.9+ KB\n"
          ],
          "name": "stdout"
        }
      ]
    },
    {
      "cell_type": "code",
      "metadata": {
        "id": "vBZa_N3ptU5c",
        "colab_type": "code",
        "outputId": "633d6eaf-68f5-4291-b8db-512ed2ad6feb",
        "colab": {
          "base_uri": "https://localhost:8080/",
          "height": 300
        }
      },
      "source": [
        "# dataset statistical description\n",
        "\n",
        "data.describe()"
      ],
      "execution_count": 351,
      "outputs": [
        {
          "output_type": "execute_result",
          "data": {
            "text/html": [
              "<div>\n",
              "<style scoped>\n",
              "    .dataframe tbody tr th:only-of-type {\n",
              "        vertical-align: middle;\n",
              "    }\n",
              "\n",
              "    .dataframe tbody tr th {\n",
              "        vertical-align: top;\n",
              "    }\n",
              "\n",
              "    .dataframe thead th {\n",
              "        text-align: right;\n",
              "    }\n",
              "</style>\n",
              "<table border=\"1\" class=\"dataframe\">\n",
              "  <thead>\n",
              "    <tr style=\"text-align: right;\">\n",
              "      <th></th>\n",
              "      <th>CRIME_YEAR</th>\n",
              "      <th>CRIME_CITY_LATTITUDE</th>\n",
              "      <th>CRIME_CITY_LONGTITUDE</th>\n",
              "      <th>NUMBER_OF_CRIME_IN_THE_CRIME_TYPE</th>\n",
              "    </tr>\n",
              "  </thead>\n",
              "  <tbody>\n",
              "    <tr>\n",
              "      <th>count</th>\n",
              "      <td>1440.000000</td>\n",
              "      <td>1440.000000</td>\n",
              "      <td>1440.000000</td>\n",
              "      <td>1440.000000</td>\n",
              "    </tr>\n",
              "    <tr>\n",
              "      <th>mean</th>\n",
              "      <td>2006.500000</td>\n",
              "      <td>11.227500</td>\n",
              "      <td>78.388950</td>\n",
              "      <td>178.763194</td>\n",
              "    </tr>\n",
              "    <tr>\n",
              "      <th>std</th>\n",
              "      <td>3.453252</td>\n",
              "      <td>1.553465</td>\n",
              "      <td>1.063606</td>\n",
              "      <td>398.961224</td>\n",
              "    </tr>\n",
              "    <tr>\n",
              "      <th>min</th>\n",
              "      <td>2001.000000</td>\n",
              "      <td>8.741200</td>\n",
              "      <td>76.955800</td>\n",
              "      <td>0.000000</td>\n",
              "    </tr>\n",
              "    <tr>\n",
              "      <th>25%</th>\n",
              "      <td>2003.750000</td>\n",
              "      <td>9.925200</td>\n",
              "      <td>77.694600</td>\n",
              "      <td>10.000000</td>\n",
              "    </tr>\n",
              "    <tr>\n",
              "      <th>50%</th>\n",
              "      <td>2006.500000</td>\n",
              "      <td>11.340550</td>\n",
              "      <td>78.132900</td>\n",
              "      <td>43.000000</td>\n",
              "    </tr>\n",
              "    <tr>\n",
              "      <th>75%</th>\n",
              "      <td>2009.250000</td>\n",
              "      <td>12.934900</td>\n",
              "      <td>79.146800</td>\n",
              "      <td>125.500000</td>\n",
              "    </tr>\n",
              "    <tr>\n",
              "      <th>max</th>\n",
              "      <td>2012.000000</td>\n",
              "      <td>13.082600</td>\n",
              "      <td>80.270700</td>\n",
              "      <td>3779.000000</td>\n",
              "    </tr>\n",
              "  </tbody>\n",
              "</table>\n",
              "</div>"
            ],
            "text/plain": [
              "        CRIME_YEAR  ...  NUMBER_OF_CRIME_IN_THE_CRIME_TYPE\n",
              "count  1440.000000  ...                        1440.000000\n",
              "mean   2006.500000  ...                         178.763194\n",
              "std       3.453252  ...                         398.961224\n",
              "min    2001.000000  ...                           0.000000\n",
              "25%    2003.750000  ...                          10.000000\n",
              "50%    2006.500000  ...                          43.000000\n",
              "75%    2009.250000  ...                         125.500000\n",
              "max    2012.000000  ...                        3779.000000\n",
              "\n",
              "[8 rows x 4 columns]"
            ]
          },
          "metadata": {
            "tags": []
          },
          "execution_count": 351
        }
      ]
    },
    {
      "cell_type": "code",
      "metadata": {
        "id": "tIR7lDMmtUy8",
        "colab_type": "code",
        "outputId": "51da9b1d-c591-4669-eb93-46dd507521af",
        "colab": {
          "base_uri": "https://localhost:8080/",
          "height": 365
        }
      },
      "source": [
        "# dataset summary view\n",
        "\n",
        "data.head()"
      ],
      "execution_count": 352,
      "outputs": [
        {
          "output_type": "execute_result",
          "data": {
            "text/html": [
              "<div>\n",
              "<style scoped>\n",
              "    .dataframe tbody tr th:only-of-type {\n",
              "        vertical-align: middle;\n",
              "    }\n",
              "\n",
              "    .dataframe tbody tr th {\n",
              "        vertical-align: top;\n",
              "    }\n",
              "\n",
              "    .dataframe thead th {\n",
              "        text-align: right;\n",
              "    }\n",
              "</style>\n",
              "<table border=\"1\" class=\"dataframe\">\n",
              "  <thead>\n",
              "    <tr style=\"text-align: right;\">\n",
              "      <th></th>\n",
              "      <th>CRIME_YEAR</th>\n",
              "      <th>CRIME_STATE</th>\n",
              "      <th>CRIME_CITY</th>\n",
              "      <th>CRIME_CITY_LATTITUDE</th>\n",
              "      <th>CRIME_CITY_LONGTITUDE</th>\n",
              "      <th>CRIME_TYPE</th>\n",
              "      <th>NUMBER_OF_CRIME_IN_THE_CRIME_TYPE</th>\n",
              "    </tr>\n",
              "  </thead>\n",
              "  <tbody>\n",
              "    <tr>\n",
              "      <th>0</th>\n",
              "      <td>2001</td>\n",
              "      <td>TAMIL NADU</td>\n",
              "      <td>CHENNAI</td>\n",
              "      <td>13.0826</td>\n",
              "      <td>80.2707</td>\n",
              "      <td>MURDER</td>\n",
              "      <td>91</td>\n",
              "    </tr>\n",
              "    <tr>\n",
              "      <th>1</th>\n",
              "      <td>2001</td>\n",
              "      <td>TAMIL NADU</td>\n",
              "      <td>CHENNAI</td>\n",
              "      <td>13.0826</td>\n",
              "      <td>80.2707</td>\n",
              "      <td>ATTEMPT TO MURDER</td>\n",
              "      <td>298</td>\n",
              "    </tr>\n",
              "    <tr>\n",
              "      <th>2</th>\n",
              "      <td>2001</td>\n",
              "      <td>TAMIL NADU</td>\n",
              "      <td>CHENNAI</td>\n",
              "      <td>13.0826</td>\n",
              "      <td>80.2707</td>\n",
              "      <td>CULPABLE HOMICIDE NOT AMOUNTING TO MURDER</td>\n",
              "      <td>0</td>\n",
              "    </tr>\n",
              "    <tr>\n",
              "      <th>3</th>\n",
              "      <td>2001</td>\n",
              "      <td>TAMIL NADU</td>\n",
              "      <td>CHENNAI</td>\n",
              "      <td>13.0826</td>\n",
              "      <td>80.2707</td>\n",
              "      <td>RAPE</td>\n",
              "      <td>28</td>\n",
              "    </tr>\n",
              "    <tr>\n",
              "      <th>4</th>\n",
              "      <td>2001</td>\n",
              "      <td>TAMIL NADU</td>\n",
              "      <td>CHENNAI</td>\n",
              "      <td>13.0826</td>\n",
              "      <td>80.2707</td>\n",
              "      <td>OTHER RAPE</td>\n",
              "      <td>28</td>\n",
              "    </tr>\n",
              "  </tbody>\n",
              "</table>\n",
              "</div>"
            ],
            "text/plain": [
              "   CRIME_YEAR  ... NUMBER_OF_CRIME_IN_THE_CRIME_TYPE\n",
              "0        2001  ...                                91\n",
              "1        2001  ...                               298\n",
              "2        2001  ...                                 0\n",
              "3        2001  ...                                28\n",
              "4        2001  ...                                28\n",
              "\n",
              "[5 rows x 7 columns]"
            ]
          },
          "metadata": {
            "tags": []
          },
          "execution_count": 352
        }
      ]
    },
    {
      "cell_type": "code",
      "metadata": {
        "id": "raH7KQ7ltUxQ",
        "colab_type": "code",
        "outputId": "da14671e-3631-4fd6-ca40-10b3ec1aca96",
        "colab": {
          "base_uri": "https://localhost:8080/",
          "height": 519
        }
      },
      "source": [
        "# lineplot - no. of crimes vs year and city\n",
        "\n",
        "fig, ax = plt.subplots(figsize=(13,8))\n",
        "ax.set_xlabel('YEARS')\n",
        "ax.set_ylabel('NUMBER OF CRIMES')\n",
        "data.groupby(['CRIME_YEAR', 'CRIME_CITY']).sum()['NUMBER_OF_CRIME_IN_THE_CRIME_TYPE'].unstack().plot(ax=ax,style=['+-','o-','.--','s:', '*-', '.-'])\n"
      ],
      "execution_count": 353,
      "outputs": [
        {
          "output_type": "execute_result",
          "data": {
            "text/plain": [
              "<matplotlib.axes._subplots.AxesSubplot at 0x7f7bfe6870b8>"
            ]
          },
          "metadata": {
            "tags": []
          },
          "execution_count": 353
        },
        {
          "output_type": "display_data",
          "data": {
            "image/png": "[encoded data removed]",
            "text/plain": [
              "<Figure size 936x576 with 1 Axes>"
            ]
          },
          "metadata": {
            "tags": []
          }
        }
      ]
    },
    {
      "cell_type": "code",
      "metadata": {
        "id": "zDt3P5p8tUub",
        "colab_type": "code",
        "outputId": "00f44874-7251-4a2f-bf40-78faa1c19eaf",
        "colab": {
          "base_uri": "https://localhost:8080/",
          "height": 54
        }
      },
      "source": [
        "# copying data\n",
        "data_copy = data\n",
        "\n",
        "# label_encoder object knows how to understand word labels. \n",
        "label_encoder = LabelEncoder() \n",
        "\n",
        "# Encode labels in column 'CRIME_CITY'. \n",
        "data['CRIME_CITY']= label_encoder.fit_transform(data['CRIME_CITY']) \n",
        "data['CRIME_CITY'].unique() \n",
        "\n",
        "# Encode labels in column 'CRIME_STATE'. \n",
        "data['CRIME_STATE']= label_encoder.fit_transform(data['CRIME_STATE']) \n",
        "data['CRIME_STATE'].unique() \n",
        "\n",
        "# Encode labels in column 'CRIME_TYPE'. \n",
        "data['CRIME_TYPE']= label_encoder.fit_transform(data['CRIME_TYPE']) \n",
        "data['CRIME_TYPE'].unique() \n"
      ],
      "execution_count": 354,
      "outputs": [
        {
          "output_type": "execute_result",
          "data": {
            "text/plain": [
              "array([14,  1,  7, 16, 15, 11, 13, 12,  8, 18,  2, 19, 17,  6,  4,  5, 10,\n",
              "        9,  0,  3])"
            ]
          },
          "metadata": {
            "tags": []
          },
          "execution_count": 354
        }
      ]
    },
    {
      "cell_type": "code",
      "metadata": {
        "id": "kF6dQmtvtUn5",
        "colab_type": "code",
        "outputId": "3cb4a2e6-62a7-4ab5-a101-e381f31b62ec",
        "colab": {
          "base_uri": "https://localhost:8080/",
          "height": 226
        }
      },
      "source": [
        "# after label encoding\n",
        "\n",
        "data.head()\n"
      ],
      "execution_count": 355,
      "outputs": [
        {
          "output_type": "execute_result",
          "data": {
            "text/html": [
              "<div>\n",
              "<style scoped>\n",
              "    .dataframe tbody tr th:only-of-type {\n",
              "        vertical-align: middle;\n",
              "    }\n",
              "\n",
              "    .dataframe tbody tr th {\n",
              "        vertical-align: top;\n",
              "    }\n",
              "\n",
              "    .dataframe thead th {\n",
              "        text-align: right;\n",
              "    }\n",
              "</style>\n",
              "<table border=\"1\" class=\"dataframe\">\n",
              "  <thead>\n",
              "    <tr style=\"text-align: right;\">\n",
              "      <th></th>\n",
              "      <th>CRIME_YEAR</th>\n",
              "      <th>CRIME_STATE</th>\n",
              "      <th>CRIME_CITY</th>\n",
              "      <th>CRIME_CITY_LATTITUDE</th>\n",
              "      <th>CRIME_CITY_LONGTITUDE</th>\n",
              "      <th>CRIME_TYPE</th>\n",
              "      <th>NUMBER_OF_CRIME_IN_THE_CRIME_TYPE</th>\n",
              "    </tr>\n",
              "  </thead>\n",
              "  <tbody>\n",
              "    <tr>\n",
              "      <th>0</th>\n",
              "      <td>2001</td>\n",
              "      <td>0</td>\n",
              "      <td>0</td>\n",
              "      <td>13.0826</td>\n",
              "      <td>80.2707</td>\n",
              "      <td>14</td>\n",
              "      <td>91</td>\n",
              "    </tr>\n",
              "    <tr>\n",
              "      <th>1</th>\n",
              "      <td>2001</td>\n",
              "      <td>0</td>\n",
              "      <td>0</td>\n",
              "      <td>13.0826</td>\n",
              "      <td>80.2707</td>\n",
              "      <td>1</td>\n",
              "      <td>298</td>\n",
              "    </tr>\n",
              "    <tr>\n",
              "      <th>2</th>\n",
              "      <td>2001</td>\n",
              "      <td>0</td>\n",
              "      <td>0</td>\n",
              "      <td>13.0826</td>\n",
              "      <td>80.2707</td>\n",
              "      <td>7</td>\n",
              "      <td>0</td>\n",
              "    </tr>\n",
              "    <tr>\n",
              "      <th>3</th>\n",
              "      <td>2001</td>\n",
              "      <td>0</td>\n",
              "      <td>0</td>\n",
              "      <td>13.0826</td>\n",
              "      <td>80.2707</td>\n",
              "      <td>16</td>\n",
              "      <td>28</td>\n",
              "    </tr>\n",
              "    <tr>\n",
              "      <th>4</th>\n",
              "      <td>2001</td>\n",
              "      <td>0</td>\n",
              "      <td>0</td>\n",
              "      <td>13.0826</td>\n",
              "      <td>80.2707</td>\n",
              "      <td>15</td>\n",
              "      <td>28</td>\n",
              "    </tr>\n",
              "  </tbody>\n",
              "</table>\n",
              "</div>"
            ],
            "text/plain": [
              "   CRIME_YEAR  CRIME_STATE  ...  CRIME_TYPE  NUMBER_OF_CRIME_IN_THE_CRIME_TYPE\n",
              "0        2001            0  ...          14                                 91\n",
              "1        2001            0  ...           1                                298\n",
              "2        2001            0  ...           7                                  0\n",
              "3        2001            0  ...          16                                 28\n",
              "4        2001            0  ...          15                                 28\n",
              "\n",
              "[5 rows x 7 columns]"
            ]
          },
          "metadata": {
            "tags": []
          },
          "execution_count": 355
        }
      ]
    },
    {
      "cell_type": "code",
      "metadata": {
        "id": "q6qGhDE7yKRU",
        "colab_type": "code",
        "outputId": "cfa2cbfc-7dac-45c5-c05b-d9df3c89c046",
        "colab": {
          "base_uri": "https://localhost:8080/",
          "height": 237
        }
      },
      "source": [
        "# after label encoding\n",
        "\n",
        "data.info()"
      ],
      "execution_count": 356,
      "outputs": [
        {
          "output_type": "stream",
          "text": [
            "<class 'pandas.core.frame.DataFrame'>\n",
            "RangeIndex: 1440 entries, 0 to 1439\n",
            "Data columns (total 7 columns):\n",
            "CRIME_YEAR                           1440 non-null int64\n",
            "CRIME_STATE                          1440 non-null int64\n",
            "CRIME_CITY                           1440 non-null int64\n",
            "CRIME_CITY_LATTITUDE                 1440 non-null float64\n",
            "CRIME_CITY_LONGTITUDE                1440 non-null float64\n",
            "CRIME_TYPE                           1440 non-null int64\n",
            "NUMBER_OF_CRIME_IN_THE_CRIME_TYPE    1440 non-null int64\n",
            "dtypes: float64(2), int64(5)\n",
            "memory usage: 78.9 KB\n"
          ],
          "name": "stdout"
        }
      ]
    },
    {
      "cell_type": "code",
      "metadata": {
        "id": "bDiThhyeyKo6",
        "colab_type": "code",
        "outputId": "55f6a739-2b48-40f6-df79-0f57a58754e3",
        "colab": {
          "base_uri": "https://localhost:8080/",
          "height": 206
        }
      },
      "source": [
        "''' # standard scaling\n",
        "from sklearn.preprocessing import StandardScaler\n",
        "\n",
        "scaler = StandardScaler()\n",
        "data_scaled = scaler.fit_transform(data)\n",
        "\n",
        "# statistics of scaled data\n",
        "data_scaled = pd.DataFrame(data_scaled)\n",
        "data_scaled.describe() '''\n",
        "\n",
        "# case 1: K-means\n",
        "\n",
        "X = data[['CRIME_YEAR', 'NUMBER_OF_CRIME_IN_THE_CRIME_TYPE']]\n",
        "\n",
        "clusters = KMeans(9)\n",
        "clusters.fit(X)\n",
        "clusters.cluster_centers_\n",
        "clusters.labels_\n",
        "\n",
        "data['crime_clusters'] = clusters.labels_\n",
        "data.head()\n",
        "data.sort_values(by=['crime_clusters'],ascending = True)\n",
        "X.head()\n",
        "\n"
      ],
      "execution_count": 357,
      "outputs": [
        {
          "output_type": "execute_result",
          "data": {
            "text/html": [
              "<div>\n",
              "<style scoped>\n",
              "    .dataframe tbody tr th:only-of-type {\n",
              "        vertical-align: middle;\n",
              "    }\n",
              "\n",
              "    .dataframe tbody tr th {\n",
              "        vertical-align: top;\n",
              "    }\n",
              "\n",
              "    .dataframe thead th {\n",
              "        text-align: right;\n",
              "    }\n",
              "</style>\n",
              "<table border=\"1\" class=\"dataframe\">\n",
              "  <thead>\n",
              "    <tr style=\"text-align: right;\">\n",
              "      <th></th>\n",
              "      <th>CRIME_YEAR</th>\n",
              "      <th>NUMBER_OF_CRIME_IN_THE_CRIME_TYPE</th>\n",
              "    </tr>\n",
              "  </thead>\n",
              "  <tbody>\n",
              "    <tr>\n",
              "      <th>0</th>\n",
              "      <td>2001</td>\n",
              "      <td>91</td>\n",
              "    </tr>\n",
              "    <tr>\n",
              "      <th>1</th>\n",
              "      <td>2001</td>\n",
              "      <td>298</td>\n",
              "    </tr>\n",
              "    <tr>\n",
              "      <th>2</th>\n",
              "      <td>2001</td>\n",
              "      <td>0</td>\n",
              "    </tr>\n",
              "    <tr>\n",
              "      <th>3</th>\n",
              "      <td>2001</td>\n",
              "      <td>28</td>\n",
              "    </tr>\n",
              "    <tr>\n",
              "      <th>4</th>\n",
              "      <td>2001</td>\n",
              "      <td>28</td>\n",
              "    </tr>\n",
              "  </tbody>\n",
              "</table>\n",
              "</div>"
            ],
            "text/plain": [
              "   CRIME_YEAR  NUMBER_OF_CRIME_IN_THE_CRIME_TYPE\n",
              "0        2001                                 91\n",
              "1        2001                                298\n",
              "2        2001                                  0\n",
              "3        2001                                 28\n",
              "4        2001                                 28"
            ]
          },
          "metadata": {
            "tags": []
          },
          "execution_count": 357
        }
      ]
    },
    {
      "cell_type": "code",
      "metadata": {
        "id": "PClhK0o5yKNm",
        "colab_type": "code",
        "outputId": "dabfc3e7-bdad-4eb8-9e88-76513a513845",
        "colab": {
          "base_uri": "https://localhost:8080/",
          "height": 498
        }
      },
      "source": [
        "sns.lmplot('CRIME_YEAR' ,'NUMBER_OF_CRIME_IN_THE_CRIME_TYPE', data=data,\n",
        "        hue = \"crime_clusters\",\n",
        "        fit_reg=False, size = 6 );"
      ],
      "execution_count": 358,
      "outputs": [
        {
          "output_type": "stream",
          "text": [
            "/usr/local/lib/python3.6/dist-packages/seaborn/regression.py:546: UserWarning: The `size` paramter has been renamed to `height`; please update your code.\n",
            "  warnings.warn(msg, UserWarning)\n"
          ],
          "name": "stderr"
        },
        {
          "output_type": "display_data",
          "data": {
            "image/png": "[encoded data removed]",
            "text/plain": [
              "<Figure size 512.625x432 with 1 Axes>"
            ]
          },
          "metadata": {
            "tags": []
          }
        }
      ]
    },
    {
      "cell_type": "code",
      "metadata": {
        "id": "szbEgJsblEWy",
        "colab_type": "code",
        "colab": {
          "base_uri": "https://localhost:8080/",
          "height": 206
        },
        "outputId": "ed480b91-5fe6-4ba8-eb47-629fbc2a9a89"
      },
      "source": [
        "# case 2: K-means\n",
        "\n",
        "X = data[['CRIME_YEAR', 'NUMBER_OF_CRIME_IN_THE_CRIME_TYPE', 'CRIME_CITY']]\n",
        "\n",
        "clusters = KMeans(6)\n",
        "clusters.fit(X)\n",
        "clusters.cluster_centers_\n",
        "clusters.labels_\n",
        "\n",
        "data['crime_clusters'] = clusters.labels_\n",
        "data.head()\n",
        "data.sort_values(by=['crime_clusters'],ascending = True)\n",
        "X.head()"
      ],
      "execution_count": 359,
      "outputs": [
        {
          "output_type": "execute_result",
          "data": {
            "text/html": [
              "<div>\n",
              "<style scoped>\n",
              "    .dataframe tbody tr th:only-of-type {\n",
              "        vertical-align: middle;\n",
              "    }\n",
              "\n",
              "    .dataframe tbody tr th {\n",
              "        vertical-align: top;\n",
              "    }\n",
              "\n",
              "    .dataframe thead th {\n",
              "        text-align: right;\n",
              "    }\n",
              "</style>\n",
              "<table border=\"1\" class=\"dataframe\">\n",
              "  <thead>\n",
              "    <tr style=\"text-align: right;\">\n",
              "      <th></th>\n",
              "      <th>CRIME_YEAR</th>\n",
              "      <th>NUMBER_OF_CRIME_IN_THE_CRIME_TYPE</th>\n",
              "      <th>CRIME_CITY</th>\n",
              "    </tr>\n",
              "  </thead>\n",
              "  <tbody>\n",
              "    <tr>\n",
              "      <th>0</th>\n",
              "      <td>2001</td>\n",
              "      <td>91</td>\n",
              "      <td>0</td>\n",
              "    </tr>\n",
              "    <tr>\n",
              "      <th>1</th>\n",
              "      <td>2001</td>\n",
              "      <td>298</td>\n",
              "      <td>0</td>\n",
              "    </tr>\n",
              "    <tr>\n",
              "      <th>2</th>\n",
              "      <td>2001</td>\n",
              "      <td>0</td>\n",
              "      <td>0</td>\n",
              "    </tr>\n",
              "    <tr>\n",
              "      <th>3</th>\n",
              "      <td>2001</td>\n",
              "      <td>28</td>\n",
              "      <td>0</td>\n",
              "    </tr>\n",
              "    <tr>\n",
              "      <th>4</th>\n",
              "      <td>2001</td>\n",
              "      <td>28</td>\n",
              "      <td>0</td>\n",
              "    </tr>\n",
              "  </tbody>\n",
              "</table>\n",
              "</div>"
            ],
            "text/plain": [
              "   CRIME_YEAR  NUMBER_OF_CRIME_IN_THE_CRIME_TYPE  CRIME_CITY\n",
              "0        2001                                 91           0\n",
              "1        2001                                298           0\n",
              "2        2001                                  0           0\n",
              "3        2001                                 28           0\n",
              "4        2001                                 28           0"
            ]
          },
          "metadata": {
            "tags": []
          },
          "execution_count": 359
        }
      ]
    },
    {
      "cell_type": "code",
      "metadata": {
        "id": "CQxPtr63lEnD",
        "colab_type": "code",
        "colab": {
          "base_uri": "https://localhost:8080/",
          "height": 498
        },
        "outputId": "52a52124-0fc4-45af-aa0c-26556acff03b"
      },
      "source": [
        "sns.lmplot('CRIME_CITY' ,'NUMBER_OF_CRIME_IN_THE_CRIME_TYPE', data=data,\n",
        "        hue = \"crime_clusters\",\n",
        "        fit_reg=False, size = 6 );"
      ],
      "execution_count": 360,
      "outputs": [
        {
          "output_type": "stream",
          "text": [
            "/usr/local/lib/python3.6/dist-packages/seaborn/regression.py:546: UserWarning: The `size` paramter has been renamed to `height`; please update your code.\n",
            "  warnings.warn(msg, UserWarning)\n"
          ],
          "name": "stderr"
        },
        {
          "output_type": "display_data",
          "data": {
            "image/png": "[encoded data removed]",
            "text/plain": [
              "<Figure size 512.625x432 with 1 Axes>"
            ]
          },
          "metadata": {
            "tags": []
          }
        }
      ]
    },
    {
      "cell_type": "code",
      "metadata": {
        "id": "4f3AHgdBlEi_",
        "colab_type": "code",
        "colab": {
          "base_uri": "https://localhost:8080/",
          "height": 206
        },
        "outputId": "c9f2b07b-ecd2-495d-ac07-cf2dad1ce7ac"
      },
      "source": [
        "# case 3: K-means\n",
        "\n",
        "X = data[['CRIME_TYPE', 'NUMBER_OF_CRIME_IN_THE_CRIME_TYPE', 'CRIME_CITY']]\n",
        "\n",
        "clusters = KMeans(20)\n",
        "clusters.fit(X)\n",
        "clusters.cluster_centers_\n",
        "clusters.labels_\n",
        "\n",
        "data['crime_clusters'] = clusters.labels_\n",
        "data.head()\n",
        "data.sort_values(by=['crime_clusters'],ascending = True)\n",
        "X.head()"
      ],
      "execution_count": 361,
      "outputs": [
        {
          "output_type": "execute_result",
          "data": {
            "text/html": [
              "<div>\n",
              "<style scoped>\n",
              "    .dataframe tbody tr th:only-of-type {\n",
              "        vertical-align: middle;\n",
              "    }\n",
              "\n",
              "    .dataframe tbody tr th {\n",
              "        vertical-align: top;\n",
              "    }\n",
              "\n",
              "    .dataframe thead th {\n",
              "        text-align: right;\n",
              "    }\n",
              "</style>\n",
              "<table border=\"1\" class=\"dataframe\">\n",
              "  <thead>\n",
              "    <tr style=\"text-align: right;\">\n",
              "      <th></th>\n",
              "      <th>CRIME_TYPE</th>\n",
              "      <th>NUMBER_OF_CRIME_IN_THE_CRIME_TYPE</th>\n",
              "      <th>CRIME_CITY</th>\n",
              "    </tr>\n",
              "  </thead>\n",
              "  <tbody>\n",
              "    <tr>\n",
              "      <th>0</th>\n",
              "      <td>14</td>\n",
              "      <td>91</td>\n",
              "      <td>0</td>\n",
              "    </tr>\n",
              "    <tr>\n",
              "      <th>1</th>\n",
              "      <td>1</td>\n",
              "      <td>298</td>\n",
              "      <td>0</td>\n",
              "    </tr>\n",
              "    <tr>\n",
              "      <th>2</th>\n",
              "      <td>7</td>\n",
              "      <td>0</td>\n",
              "      <td>0</td>\n",
              "    </tr>\n",
              "    <tr>\n",
              "      <th>3</th>\n",
              "      <td>16</td>\n",
              "      <td>28</td>\n",
              "      <td>0</td>\n",
              "    </tr>\n",
              "    <tr>\n",
              "      <th>4</th>\n",
              "      <td>15</td>\n",
              "      <td>28</td>\n",
              "      <td>0</td>\n",
              "    </tr>\n",
              "  </tbody>\n",
              "</table>\n",
              "</div>"
            ],
            "text/plain": [
              "   CRIME_TYPE  NUMBER_OF_CRIME_IN_THE_CRIME_TYPE  CRIME_CITY\n",
              "0          14                                 91           0\n",
              "1           1                                298           0\n",
              "2           7                                  0           0\n",
              "3          16                                 28           0\n",
              "4          15                                 28           0"
            ]
          },
          "metadata": {
            "tags": []
          },
          "execution_count": 361
        }
      ]
    },
    {
      "cell_type": "code",
      "metadata": {
        "id": "M8C0xQgIlEgJ",
        "colab_type": "code",
        "colab": {
          "base_uri": "https://localhost:8080/",
          "height": 498
        },
        "outputId": "fa495558-e38c-4f47-de9a-62288bf1a95e"
      },
      "source": [
        "sns.lmplot('CRIME_TYPE' ,'NUMBER_OF_CRIME_IN_THE_CRIME_TYPE', data=data,\n",
        "        hue = \"crime_clusters\",\n",
        "        fit_reg=False, size = 6 );"
      ],
      "execution_count": 362,
      "outputs": [
        {
          "output_type": "stream",
          "text": [
            "/usr/local/lib/python3.6/dist-packages/seaborn/regression.py:546: UserWarning: The `size` paramter has been renamed to `height`; please update your code.\n",
            "  warnings.warn(msg, UserWarning)\n"
          ],
          "name": "stderr"
        },
        {
          "output_type": "display_data",
          "data": {
            "image/png": "[encoded data removed]",
            "text/plain": [
              "<Figure size 512.625x432 with 1 Axes>"
            ]
          },
          "metadata": {
            "tags": []
          }
        }
      ]
    },
    {
      "cell_type": "code",
      "metadata": {
        "id": "kvsxRF91lEeR",
        "colab_type": "code",
        "colab": {
          "base_uri": "https://localhost:8080/",
          "height": 55
        },
        "outputId": "da7cf179-8ff8-48e9-c672-7b150e28a450"
      },
      "source": [
        "# case 4: K-means\n",
        "\n",
        "'''X = data[['CRIME_TYPE', 'NUMBER_OF_CRIME_IN_THE_CRIME_TYPE', 'CRIME_CITY_LATTITUDE', 'CRIME_CITY_LONGTITUDE']]\n",
        "\n",
        "clusters = KMeans(6)\n",
        "clusters.fit(X)\n",
        "clusters.cluster_centers_\n",
        "clusters.labels_\n",
        "\n",
        "data['crime_clusters'] = clusters.labels_\n",
        "data.head()\n",
        "data.sort_values(by=['crime_clusters'],ascending = True)\n",
        "X.head()'''"
      ],
      "execution_count": 363,
      "outputs": [
        {
          "output_type": "execute_result",
          "data": {
            "text/plain": [
              "\"X = data[['CRIME_TYPE', 'NUMBER_OF_CRIME_IN_THE_CRIME_TYPE', 'CRIME_CITY_LATTITUDE', 'CRIME_CITY_LONGTITUDE']]\\n\\nclusters = KMeans(6)\\nclusters.fit(X)\\nclusters.cluster_centers_\\nclusters.labels_\\n\\ndata['crime_clusters'] = clusters.labels_\\ndata.head()\\ndata.sort_values(by=['crime_clusters'],ascending = True)\\nX.head()\""
            ]
          },
          "metadata": {
            "tags": []
          },
          "execution_count": 363
        }
      ]
    },
    {
      "cell_type": "code",
      "metadata": {
        "id": "25n8JmmllEcR",
        "colab_type": "code",
        "colab": {
          "base_uri": "https://localhost:8080/",
          "height": 55
        },
        "outputId": "315ed491-2c60-44ee-c908-007d9c50aa7c"
      },
      "source": [
        "''''sns.lmplot('CRIME_YEAR', 'CRIME_TYPE', data=data,\n",
        "        hue = \"crime_clusters\",\n",
        "        fit_reg=False, size = 6 );'''"
      ],
      "execution_count": 364,
      "outputs": [
        {
          "output_type": "execute_result",
          "data": {
            "text/plain": [
              "'\\'sns.lmplot(\\'CRIME_YEAR\\', \\'CRIME_TYPE\\', data=data,\\n        hue = \"crime_clusters\",\\n        fit_reg=False, size = 6 );'"
            ]
          },
          "metadata": {
            "tags": []
          },
          "execution_count": 364
        }
      ]
    },
    {
      "cell_type": "code",
      "metadata": {
        "id": "KC3RQvTflEUY",
        "colab_type": "code",
        "colab": {
          "base_uri": "https://localhost:8080/",
          "height": 54
        },
        "outputId": "f7af23cc-c947-4b7c-ce47-1643876e1dfb"
      },
      "source": [
        "# KNN\n",
        "\n",
        "X = data_copy.drop('CRIME_TYPE',axis=1).values\n",
        "y = data_copy['CRIME_TYPE'].values\n",
        "\n",
        "print(X.shape)\n",
        "print(y.shape)"
      ],
      "execution_count": 365,
      "outputs": [
        {
          "output_type": "stream",
          "text": [
            "(1440, 7)\n",
            "(1440,)\n"
          ],
          "name": "stdout"
        }
      ]
    },
    {
      "cell_type": "code",
      "metadata": {
        "id": "BiRtBiY7v3ak",
        "colab_type": "code",
        "colab": {}
      },
      "source": [
        ""
      ],
      "execution_count": 0,
      "outputs": []
    },
    {
      "cell_type": "code",
      "metadata": {
        "id": "4Q9hDi6uv3h9",
        "colab_type": "code",
        "colab": {}
      },
      "source": [
        "X_train,X_test,y_train,y_test = train_test_split(X,y,test_size=0.3,random_state=42, stratify=y)"
      ],
      "execution_count": 0,
      "outputs": []
    },
    {
      "cell_type": "code",
      "metadata": {
        "id": "0cG4k7pcv3Vj",
        "colab_type": "code",
        "colab": {}
      },
      "source": [
        "#Setup arrays to store training and test accuracies\n",
        "neighbors = np.arange(1,9)\n",
        "train_accuracy =np.empty(len(neighbors))\n",
        "test_accuracy = np.empty(len(neighbors))\n",
        "\n",
        "for i,k in enumerate(neighbors):\n",
        "    #Setup a knn classifier with k neighbors\n",
        "    knn = KNeighborsClassifier(n_neighbors=k)\n",
        "    \n",
        "    #Fit the model\n",
        "    knn.fit(X_train, y_train)\n",
        "    \n",
        "    #Compute accuracy on the training set\n",
        "    train_accuracy[i] = knn.score(X_train, y_train)\n",
        "    \n",
        "    #Compute accuracy on the test set\n",
        "    test_accuracy[i] = knn.score(X_test, y_test) "
      ],
      "execution_count": 0,
      "outputs": []
    },
    {
      "cell_type": "code",
      "metadata": {
        "id": "UFUASKkt0COv",
        "colab_type": "code",
        "colab": {
          "base_uri": "https://localhost:8080/",
          "height": 295
        },
        "outputId": "0b4ca825-d075-4deb-b4ca-057f423c4238"
      },
      "source": [
        "#Generate plot\n",
        "plt.title('k-NN Varying number of neighbors')\n",
        "plt.plot(neighbors, test_accuracy, label='Testing Accuracy')\n",
        "plt.plot(neighbors, train_accuracy, label='Training accuracy')\n",
        "plt.legend()\n",
        "plt.xlabel('Number of neighbors')\n",
        "plt.ylabel('Accuracy')\n",
        "plt.show()"
      ],
      "execution_count": 368,
      "outputs": [
        {
          "output_type": "display_data",
          "data": {
            "image/png": "[encoded data removed]",
            "text/plain": [
              "<Figure size 432x288 with 1 Axes>"
            ]
          },
          "metadata": {
            "tags": []
          }
        }
      ]
    },
    {
      "cell_type": "code",
      "metadata": {
        "id": "3W6vRcdo0CKj",
        "colab_type": "code",
        "colab": {
          "base_uri": "https://localhost:8080/",
          "height": 72
        },
        "outputId": "4d334755-cfd5-4e37-b277-6b4523d32ad1"
      },
      "source": [
        "knn = KNeighborsClassifier(n_neighbors=6)\n",
        "knn.fit(X_train,y_train)"
      ],
      "execution_count": 369,
      "outputs": [
        {
          "output_type": "execute_result",
          "data": {
            "text/plain": [
              "KNeighborsClassifier(algorithm='auto', leaf_size=30, metric='minkowski',\n",
              "                     metric_params=None, n_jobs=None, n_neighbors=6, p=2,\n",
              "                     weights='uniform')"
            ]
          },
          "metadata": {
            "tags": []
          },
          "execution_count": 369
        }
      ]
    },
    {
      "cell_type": "code",
      "metadata": {
        "id": "wWsdg8400CCI",
        "colab_type": "code",
        "colab": {
          "base_uri": "https://localhost:8080/",
          "height": 35
        },
        "outputId": "e58bb353-cea0-4e24-dc13-76f2cc1e44b7"
      },
      "source": [
        "knn.score(X_test,y_test)"
      ],
      "execution_count": 370,
      "outputs": [
        {
          "output_type": "execute_result",
          "data": {
            "text/plain": [
              "0.18518518518518517"
            ]
          },
          "metadata": {
            "tags": []
          },
          "execution_count": 370
        }
      ]
    },
    {
      "cell_type": "code",
      "metadata": {
        "id": "kU3p37RR1QIa",
        "colab_type": "code",
        "colab": {
          "base_uri": "https://localhost:8080/",
          "height": 752
        },
        "outputId": "84666a04-346a-4813-9004-3eef9fc05cb4"
      },
      "source": [
        "y_pred = knn.predict(X_test)\n",
        "confusion_matrix(y_test,y_pred)"
      ],
      "execution_count": 371,
      "outputs": [
        {
          "output_type": "execute_result",
          "data": {
            "text/plain": [
              "array([[ 5,  1,  2,  1,  3,  0,  0,  0,  0,  0,  0,  3,  0,  1,  3,  1,\n",
              "         0,  0,  1,  0],\n",
              "       [ 4,  5,  3,  0,  2,  0,  0,  0,  0,  0,  0,  1,  0,  1,  3,  0,\n",
              "         0,  2,  0,  0],\n",
              "       [ 3,  2,  3,  2,  1,  0,  0,  0,  0,  0,  3,  4,  0,  0,  0,  0,\n",
              "         0,  3,  0,  1],\n",
              "       [ 0,  2,  2,  5,  0,  0,  0,  0,  0,  0,  5,  0,  0,  0,  0,  0,\n",
              "         0,  1,  0,  6],\n",
              "       [ 4,  2,  2,  1,  3,  0,  0,  0,  1,  0,  1,  1,  0,  1,  1,  2,\n",
              "         0,  0,  1,  2],\n",
              "       [ 0,  0,  0,  0,  1,  3,  0, 11,  3,  2,  0,  0,  0,  0,  1,  0,\n",
              "         0,  0,  0,  0],\n",
              "       [ 0,  0,  0,  0,  0,  6,  5,  2,  1,  0,  0,  0,  5,  0,  0,  0,\n",
              "         2,  1,  0,  0],\n",
              "       [ 0,  0,  0,  0,  0,  9,  1,  6,  3,  0,  0,  0,  2,  0,  0,  0,\n",
              "         0,  1,  0,  0],\n",
              "       [ 0,  0,  0,  0,  0,  4,  2,  5,  6,  3,  0,  0,  1,  0,  0,  0,\n",
              "         0,  0,  0,  0],\n",
              "       [ 0,  0,  0,  0,  0,  5,  4,  0,  5,  1,  0,  0,  3,  1,  0,  2,\n",
              "         0,  1,  0,  0],\n",
              "       [ 0,  0,  1,  7,  0,  0,  0,  0,  0,  0, 14,  0,  0,  0,  0,  0,\n",
              "         0,  0,  0,  0],\n",
              "       [ 3,  0,  0,  0,  2,  0,  2,  0,  0,  0,  0,  7,  0,  2,  4,  0,\n",
              "         0,  0,  1,  0],\n",
              "       [ 0,  0,  0,  0,  1,  3,  5,  2,  5,  0,  0,  1,  2,  0,  0,  2,\n",
              "         1,  0,  0,  0],\n",
              "       [ 3,  3,  0,  0,  2,  1,  1,  1,  0,  1,  0,  3,  0,  2,  1,  2,\n",
              "         2,  0,  0,  0],\n",
              "       [10,  2,  1,  0,  1,  0,  0,  0,  0,  0,  0,  5,  0,  1,  2,  0,\n",
              "         0,  0,  0,  0],\n",
              "       [ 2,  2,  0,  0,  0,  0,  3,  0,  1,  2,  0,  2,  1,  0,  0,  4,\n",
              "         3,  0,  1,  0],\n",
              "       [ 1,  4,  0,  0,  0,  0,  2,  0,  0,  1,  0,  1,  2,  4,  0,  5,\n",
              "         1,  0,  1,  0],\n",
              "       [ 1,  1,  3,  0,  5,  2,  0,  0,  1,  1,  0,  1,  1,  1,  0,  0,\n",
              "         0,  2,  1,  1],\n",
              "       [ 1,  0,  1,  0,  0,  2,  3,  0,  1,  3,  0,  1,  0,  2,  3,  2,\n",
              "         0,  0,  3,  0],\n",
              "       [ 0,  3,  3,  8,  0,  0,  0,  0,  0,  0,  7,  0,  0,  0,  0,  0,\n",
              "         0,  0,  0,  1]])"
            ]
          },
          "metadata": {
            "tags": []
          },
          "execution_count": 371
        }
      ]
    },
    {
      "cell_type": "code",
      "metadata": {
        "id": "lMx95kXQ1QBO",
        "colab_type": "code",
        "colab": {
          "base_uri": "https://localhost:8080/",
          "height": 739
        },
        "outputId": "c8df4bb1-f6e9-4891-d167-cdad3a2df32d"
      },
      "source": [
        "pd.crosstab(y_test, y_pred, rownames=['True'], colnames=['Predicted'], margins=True)"
      ],
      "execution_count": 372,
      "outputs": [
        {
          "output_type": "execute_result",
          "data": {
            "text/html": [
              "<div>\n",
              "<style scoped>\n",
              "    .dataframe tbody tr th:only-of-type {\n",
              "        vertical-align: middle;\n",
              "    }\n",
              "\n",
              "    .dataframe tbody tr th {\n",
              "        vertical-align: top;\n",
              "    }\n",
              "\n",
              "    .dataframe thead th {\n",
              "        text-align: right;\n",
              "    }\n",
              "</style>\n",
              "<table border=\"1\" class=\"dataframe\">\n",
              "  <thead>\n",
              "    <tr style=\"text-align: right;\">\n",
              "      <th>Predicted</th>\n",
              "      <th>0</th>\n",
              "      <th>1</th>\n",
              "      <th>2</th>\n",
              "      <th>3</th>\n",
              "      <th>4</th>\n",
              "      <th>5</th>\n",
              "      <th>6</th>\n",
              "      <th>7</th>\n",
              "      <th>8</th>\n",
              "      <th>9</th>\n",
              "      <th>10</th>\n",
              "      <th>11</th>\n",
              "      <th>12</th>\n",
              "      <th>13</th>\n",
              "      <th>14</th>\n",
              "      <th>15</th>\n",
              "      <th>16</th>\n",
              "      <th>17</th>\n",
              "      <th>18</th>\n",
              "      <th>19</th>\n",
              "      <th>All</th>\n",
              "    </tr>\n",
              "    <tr>\n",
              "      <th>True</th>\n",
              "      <th></th>\n",
              "      <th></th>\n",
              "      <th></th>\n",
              "      <th></th>\n",
              "      <th></th>\n",
              "      <th></th>\n",
              "      <th></th>\n",
              "      <th></th>\n",
              "      <th></th>\n",
              "      <th></th>\n",
              "      <th></th>\n",
              "      <th></th>\n",
              "      <th></th>\n",
              "      <th></th>\n",
              "      <th></th>\n",
              "      <th></th>\n",
              "      <th></th>\n",
              "      <th></th>\n",
              "      <th></th>\n",
              "      <th></th>\n",
              "      <th></th>\n",
              "    </tr>\n",
              "  </thead>\n",
              "  <tbody>\n",
              "    <tr>\n",
              "      <th>0</th>\n",
              "      <td>5</td>\n",
              "      <td>1</td>\n",
              "      <td>2</td>\n",
              "      <td>1</td>\n",
              "      <td>3</td>\n",
              "      <td>0</td>\n",
              "      <td>0</td>\n",
              "      <td>0</td>\n",
              "      <td>0</td>\n",
              "      <td>0</td>\n",
              "      <td>0</td>\n",
              "      <td>3</td>\n",
              "      <td>0</td>\n",
              "      <td>1</td>\n",
              "      <td>3</td>\n",
              "      <td>1</td>\n",
              "      <td>0</td>\n",
              "      <td>0</td>\n",
              "      <td>1</td>\n",
              "      <td>0</td>\n",
              "      <td>21</td>\n",
              "    </tr>\n",
              "    <tr>\n",
              "      <th>1</th>\n",
              "      <td>4</td>\n",
              "      <td>5</td>\n",
              "      <td>3</td>\n",
              "      <td>0</td>\n",
              "      <td>2</td>\n",
              "      <td>0</td>\n",
              "      <td>0</td>\n",
              "      <td>0</td>\n",
              "      <td>0</td>\n",
              "      <td>0</td>\n",
              "      <td>0</td>\n",
              "      <td>1</td>\n",
              "      <td>0</td>\n",
              "      <td>1</td>\n",
              "      <td>3</td>\n",
              "      <td>0</td>\n",
              "      <td>0</td>\n",
              "      <td>2</td>\n",
              "      <td>0</td>\n",
              "      <td>0</td>\n",
              "      <td>21</td>\n",
              "    </tr>\n",
              "    <tr>\n",
              "      <th>2</th>\n",
              "      <td>3</td>\n",
              "      <td>2</td>\n",
              "      <td>3</td>\n",
              "      <td>2</td>\n",
              "      <td>1</td>\n",
              "      <td>0</td>\n",
              "      <td>0</td>\n",
              "      <td>0</td>\n",
              "      <td>0</td>\n",
              "      <td>0</td>\n",
              "      <td>3</td>\n",
              "      <td>4</td>\n",
              "      <td>0</td>\n",
              "      <td>0</td>\n",
              "      <td>0</td>\n",
              "      <td>0</td>\n",
              "      <td>0</td>\n",
              "      <td>3</td>\n",
              "      <td>0</td>\n",
              "      <td>1</td>\n",
              "      <td>22</td>\n",
              "    </tr>\n",
              "    <tr>\n",
              "      <th>3</th>\n",
              "      <td>0</td>\n",
              "      <td>2</td>\n",
              "      <td>2</td>\n",
              "      <td>5</td>\n",
              "      <td>0</td>\n",
              "      <td>0</td>\n",
              "      <td>0</td>\n",
              "      <td>0</td>\n",
              "      <td>0</td>\n",
              "      <td>0</td>\n",
              "      <td>5</td>\n",
              "      <td>0</td>\n",
              "      <td>0</td>\n",
              "      <td>0</td>\n",
              "      <td>0</td>\n",
              "      <td>0</td>\n",
              "      <td>0</td>\n",
              "      <td>1</td>\n",
              "      <td>0</td>\n",
              "      <td>6</td>\n",
              "      <td>21</td>\n",
              "    </tr>\n",
              "    <tr>\n",
              "      <th>4</th>\n",
              "      <td>4</td>\n",
              "      <td>2</td>\n",
              "      <td>2</td>\n",
              "      <td>1</td>\n",
              "      <td>3</td>\n",
              "      <td>0</td>\n",
              "      <td>0</td>\n",
              "      <td>0</td>\n",
              "      <td>1</td>\n",
              "      <td>0</td>\n",
              "      <td>1</td>\n",
              "      <td>1</td>\n",
              "      <td>0</td>\n",
              "      <td>1</td>\n",
              "      <td>1</td>\n",
              "      <td>2</td>\n",
              "      <td>0</td>\n",
              "      <td>0</td>\n",
              "      <td>1</td>\n",
              "      <td>2</td>\n",
              "      <td>22</td>\n",
              "    </tr>\n",
              "    <tr>\n",
              "      <th>5</th>\n",
              "      <td>0</td>\n",
              "      <td>0</td>\n",
              "      <td>0</td>\n",
              "      <td>0</td>\n",
              "      <td>1</td>\n",
              "      <td>3</td>\n",
              "      <td>0</td>\n",
              "      <td>11</td>\n",
              "      <td>3</td>\n",
              "      <td>2</td>\n",
              "      <td>0</td>\n",
              "      <td>0</td>\n",
              "      <td>0</td>\n",
              "      <td>0</td>\n",
              "      <td>1</td>\n",
              "      <td>0</td>\n",
              "      <td>0</td>\n",
              "      <td>0</td>\n",
              "      <td>0</td>\n",
              "      <td>0</td>\n",
              "      <td>21</td>\n",
              "    </tr>\n",
              "    <tr>\n",
              "      <th>6</th>\n",
              "      <td>0</td>\n",
              "      <td>0</td>\n",
              "      <td>0</td>\n",
              "      <td>0</td>\n",
              "      <td>0</td>\n",
              "      <td>6</td>\n",
              "      <td>5</td>\n",
              "      <td>2</td>\n",
              "      <td>1</td>\n",
              "      <td>0</td>\n",
              "      <td>0</td>\n",
              "      <td>0</td>\n",
              "      <td>5</td>\n",
              "      <td>0</td>\n",
              "      <td>0</td>\n",
              "      <td>0</td>\n",
              "      <td>2</td>\n",
              "      <td>1</td>\n",
              "      <td>0</td>\n",
              "      <td>0</td>\n",
              "      <td>22</td>\n",
              "    </tr>\n",
              "    <tr>\n",
              "      <th>7</th>\n",
              "      <td>0</td>\n",
              "      <td>0</td>\n",
              "      <td>0</td>\n",
              "      <td>0</td>\n",
              "      <td>0</td>\n",
              "      <td>9</td>\n",
              "      <td>1</td>\n",
              "      <td>6</td>\n",
              "      <td>3</td>\n",
              "      <td>0</td>\n",
              "      <td>0</td>\n",
              "      <td>0</td>\n",
              "      <td>2</td>\n",
              "      <td>0</td>\n",
              "      <td>0</td>\n",
              "      <td>0</td>\n",
              "      <td>0</td>\n",
              "      <td>1</td>\n",
              "      <td>0</td>\n",
              "      <td>0</td>\n",
              "      <td>22</td>\n",
              "    </tr>\n",
              "    <tr>\n",
              "      <th>8</th>\n",
              "      <td>0</td>\n",
              "      <td>0</td>\n",
              "      <td>0</td>\n",
              "      <td>0</td>\n",
              "      <td>0</td>\n",
              "      <td>4</td>\n",
              "      <td>2</td>\n",
              "      <td>5</td>\n",
              "      <td>6</td>\n",
              "      <td>3</td>\n",
              "      <td>0</td>\n",
              "      <td>0</td>\n",
              "      <td>1</td>\n",
              "      <td>0</td>\n",
              "      <td>0</td>\n",
              "      <td>0</td>\n",
              "      <td>0</td>\n",
              "      <td>0</td>\n",
              "      <td>0</td>\n",
              "      <td>0</td>\n",
              "      <td>21</td>\n",
              "    </tr>\n",
              "    <tr>\n",
              "      <th>9</th>\n",
              "      <td>0</td>\n",
              "      <td>0</td>\n",
              "      <td>0</td>\n",
              "      <td>0</td>\n",
              "      <td>0</td>\n",
              "      <td>5</td>\n",
              "      <td>4</td>\n",
              "      <td>0</td>\n",
              "      <td>5</td>\n",
              "      <td>1</td>\n",
              "      <td>0</td>\n",
              "      <td>0</td>\n",
              "      <td>3</td>\n",
              "      <td>1</td>\n",
              "      <td>0</td>\n",
              "      <td>2</td>\n",
              "      <td>0</td>\n",
              "      <td>1</td>\n",
              "      <td>0</td>\n",
              "      <td>0</td>\n",
              "      <td>22</td>\n",
              "    </tr>\n",
              "    <tr>\n",
              "      <th>10</th>\n",
              "      <td>0</td>\n",
              "      <td>0</td>\n",
              "      <td>1</td>\n",
              "      <td>7</td>\n",
              "      <td>0</td>\n",
              "      <td>0</td>\n",
              "      <td>0</td>\n",
              "      <td>0</td>\n",
              "      <td>0</td>\n",
              "      <td>0</td>\n",
              "      <td>14</td>\n",
              "      <td>0</td>\n",
              "      <td>0</td>\n",
              "      <td>0</td>\n",
              "      <td>0</td>\n",
              "      <td>0</td>\n",
              "      <td>0</td>\n",
              "      <td>0</td>\n",
              "      <td>0</td>\n",
              "      <td>0</td>\n",
              "      <td>22</td>\n",
              "    </tr>\n",
              "    <tr>\n",
              "      <th>11</th>\n",
              "      <td>3</td>\n",
              "      <td>0</td>\n",
              "      <td>0</td>\n",
              "      <td>0</td>\n",
              "      <td>2</td>\n",
              "      <td>0</td>\n",
              "      <td>2</td>\n",
              "      <td>0</td>\n",
              "      <td>0</td>\n",
              "      <td>0</td>\n",
              "      <td>0</td>\n",
              "      <td>7</td>\n",
              "      <td>0</td>\n",
              "      <td>2</td>\n",
              "      <td>4</td>\n",
              "      <td>0</td>\n",
              "      <td>0</td>\n",
              "      <td>0</td>\n",
              "      <td>1</td>\n",
              "      <td>0</td>\n",
              "      <td>21</td>\n",
              "    </tr>\n",
              "    <tr>\n",
              "      <th>12</th>\n",
              "      <td>0</td>\n",
              "      <td>0</td>\n",
              "      <td>0</td>\n",
              "      <td>0</td>\n",
              "      <td>1</td>\n",
              "      <td>3</td>\n",
              "      <td>5</td>\n",
              "      <td>2</td>\n",
              "      <td>5</td>\n",
              "      <td>0</td>\n",
              "      <td>0</td>\n",
              "      <td>1</td>\n",
              "      <td>2</td>\n",
              "      <td>0</td>\n",
              "      <td>0</td>\n",
              "      <td>2</td>\n",
              "      <td>1</td>\n",
              "      <td>0</td>\n",
              "      <td>0</td>\n",
              "      <td>0</td>\n",
              "      <td>22</td>\n",
              "    </tr>\n",
              "    <tr>\n",
              "      <th>13</th>\n",
              "      <td>3</td>\n",
              "      <td>3</td>\n",
              "      <td>0</td>\n",
              "      <td>0</td>\n",
              "      <td>2</td>\n",
              "      <td>1</td>\n",
              "      <td>1</td>\n",
              "      <td>1</td>\n",
              "      <td>0</td>\n",
              "      <td>1</td>\n",
              "      <td>0</td>\n",
              "      <td>3</td>\n",
              "      <td>0</td>\n",
              "      <td>2</td>\n",
              "      <td>1</td>\n",
              "      <td>2</td>\n",
              "      <td>2</td>\n",
              "      <td>0</td>\n",
              "      <td>0</td>\n",
              "      <td>0</td>\n",
              "      <td>22</td>\n",
              "    </tr>\n",
              "    <tr>\n",
              "      <th>14</th>\n",
              "      <td>10</td>\n",
              "      <td>2</td>\n",
              "      <td>1</td>\n",
              "      <td>0</td>\n",
              "      <td>1</td>\n",
              "      <td>0</td>\n",
              "      <td>0</td>\n",
              "      <td>0</td>\n",
              "      <td>0</td>\n",
              "      <td>0</td>\n",
              "      <td>0</td>\n",
              "      <td>5</td>\n",
              "      <td>0</td>\n",
              "      <td>1</td>\n",
              "      <td>2</td>\n",
              "      <td>0</td>\n",
              "      <td>0</td>\n",
              "      <td>0</td>\n",
              "      <td>0</td>\n",
              "      <td>0</td>\n",
              "      <td>22</td>\n",
              "    </tr>\n",
              "    <tr>\n",
              "      <th>15</th>\n",
              "      <td>2</td>\n",
              "      <td>2</td>\n",
              "      <td>0</td>\n",
              "      <td>0</td>\n",
              "      <td>0</td>\n",
              "      <td>0</td>\n",
              "      <td>3</td>\n",
              "      <td>0</td>\n",
              "      <td>1</td>\n",
              "      <td>2</td>\n",
              "      <td>0</td>\n",
              "      <td>2</td>\n",
              "      <td>1</td>\n",
              "      <td>0</td>\n",
              "      <td>0</td>\n",
              "      <td>4</td>\n",
              "      <td>3</td>\n",
              "      <td>0</td>\n",
              "      <td>1</td>\n",
              "      <td>0</td>\n",
              "      <td>21</td>\n",
              "    </tr>\n",
              "    <tr>\n",
              "      <th>16</th>\n",
              "      <td>1</td>\n",
              "      <td>4</td>\n",
              "      <td>0</td>\n",
              "      <td>0</td>\n",
              "      <td>0</td>\n",
              "      <td>0</td>\n",
              "      <td>2</td>\n",
              "      <td>0</td>\n",
              "      <td>0</td>\n",
              "      <td>1</td>\n",
              "      <td>0</td>\n",
              "      <td>1</td>\n",
              "      <td>2</td>\n",
              "      <td>4</td>\n",
              "      <td>0</td>\n",
              "      <td>5</td>\n",
              "      <td>1</td>\n",
              "      <td>0</td>\n",
              "      <td>1</td>\n",
              "      <td>0</td>\n",
              "      <td>22</td>\n",
              "    </tr>\n",
              "    <tr>\n",
              "      <th>17</th>\n",
              "      <td>1</td>\n",
              "      <td>1</td>\n",
              "      <td>3</td>\n",
              "      <td>0</td>\n",
              "      <td>5</td>\n",
              "      <td>2</td>\n",
              "      <td>0</td>\n",
              "      <td>0</td>\n",
              "      <td>1</td>\n",
              "      <td>1</td>\n",
              "      <td>0</td>\n",
              "      <td>1</td>\n",
              "      <td>1</td>\n",
              "      <td>1</td>\n",
              "      <td>0</td>\n",
              "      <td>0</td>\n",
              "      <td>0</td>\n",
              "      <td>2</td>\n",
              "      <td>1</td>\n",
              "      <td>1</td>\n",
              "      <td>21</td>\n",
              "    </tr>\n",
              "    <tr>\n",
              "      <th>18</th>\n",
              "      <td>1</td>\n",
              "      <td>0</td>\n",
              "      <td>1</td>\n",
              "      <td>0</td>\n",
              "      <td>0</td>\n",
              "      <td>2</td>\n",
              "      <td>3</td>\n",
              "      <td>0</td>\n",
              "      <td>1</td>\n",
              "      <td>3</td>\n",
              "      <td>0</td>\n",
              "      <td>1</td>\n",
              "      <td>0</td>\n",
              "      <td>2</td>\n",
              "      <td>3</td>\n",
              "      <td>2</td>\n",
              "      <td>0</td>\n",
              "      <td>0</td>\n",
              "      <td>3</td>\n",
              "      <td>0</td>\n",
              "      <td>22</td>\n",
              "    </tr>\n",
              "    <tr>\n",
              "      <th>19</th>\n",
              "      <td>0</td>\n",
              "      <td>3</td>\n",
              "      <td>3</td>\n",
              "      <td>8</td>\n",
              "      <td>0</td>\n",
              "      <td>0</td>\n",
              "      <td>0</td>\n",
              "      <td>0</td>\n",
              "      <td>0</td>\n",
              "      <td>0</td>\n",
              "      <td>7</td>\n",
              "      <td>0</td>\n",
              "      <td>0</td>\n",
              "      <td>0</td>\n",
              "      <td>0</td>\n",
              "      <td>0</td>\n",
              "      <td>0</td>\n",
              "      <td>0</td>\n",
              "      <td>0</td>\n",
              "      <td>1</td>\n",
              "      <td>22</td>\n",
              "    </tr>\n",
              "    <tr>\n",
              "      <th>All</th>\n",
              "      <td>37</td>\n",
              "      <td>27</td>\n",
              "      <td>21</td>\n",
              "      <td>24</td>\n",
              "      <td>21</td>\n",
              "      <td>35</td>\n",
              "      <td>28</td>\n",
              "      <td>27</td>\n",
              "      <td>27</td>\n",
              "      <td>14</td>\n",
              "      <td>30</td>\n",
              "      <td>30</td>\n",
              "      <td>17</td>\n",
              "      <td>16</td>\n",
              "      <td>18</td>\n",
              "      <td>20</td>\n",
              "      <td>9</td>\n",
              "      <td>11</td>\n",
              "      <td>9</td>\n",
              "      <td>11</td>\n",
              "      <td>432</td>\n",
              "    </tr>\n",
              "  </tbody>\n",
              "</table>\n",
              "</div>"
            ],
            "text/plain": [
              "Predicted   0   1   2   3   4   5   6   7  ...  13  14  15  16  17  18  19  All\n",
              "True                                       ...                                 \n",
              "0           5   1   2   1   3   0   0   0  ...   1   3   1   0   0   1   0   21\n",
              "1           4   5   3   0   2   0   0   0  ...   1   3   0   0   2   0   0   21\n",
              "2           3   2   3   2   1   0   0   0  ...   0   0   0   0   3   0   1   22\n",
              "3           0   2   2   5   0   0   0   0  ...   0   0   0   0   1   0   6   21\n",
              "4           4   2   2   1   3   0   0   0  ...   1   1   2   0   0   1   2   22\n",
              "5           0   0   0   0   1   3   0  11  ...   0   1   0   0   0   0   0   21\n",
              "6           0   0   0   0   0   6   5   2  ...   0   0   0   2   1   0   0   22\n",
              "7           0   0   0   0   0   9   1   6  ...   0   0   0   0   1   0   0   22\n",
              "8           0   0   0   0   0   4   2   5  ...   0   0   0   0   0   0   0   21\n",
              "9           0   0   0   0   0   5   4   0  ...   1   0   2   0   1   0   0   22\n",
              "10          0   0   1   7   0   0   0   0  ...   0   0   0   0   0   0   0   22\n",
              "11          3   0   0   0   2   0   2   0  ...   2   4   0   0   0   1   0   21\n",
              "12          0   0   0   0   1   3   5   2  ...   0   0   2   1   0   0   0   22\n",
              "13          3   3   0   0   2   1   1   1  ...   2   1   2   2   0   0   0   22\n",
              "14         10   2   1   0   1   0   0   0  ...   1   2   0   0   0   0   0   22\n",
              "15          2   2   0   0   0   0   3   0  ...   0   0   4   3   0   1   0   21\n",
              "16          1   4   0   0   0   0   2   0  ...   4   0   5   1   0   1   0   22\n",
              "17          1   1   3   0   5   2   0   0  ...   1   0   0   0   2   1   1   21\n",
              "18          1   0   1   0   0   2   3   0  ...   2   3   2   0   0   3   0   22\n",
              "19          0   3   3   8   0   0   0   0  ...   0   0   0   0   0   0   1   22\n",
              "All        37  27  21  24  21  35  28  27  ...  16  18  20   9  11   9  11  432\n",
              "\n",
              "[21 rows x 21 columns]"
            ]
          },
          "metadata": {
            "tags": []
          },
          "execution_count": 372
        }
      ]
    },
    {
      "cell_type": "code",
      "metadata": {
        "id": "bRTBj7KK1PyO",
        "colab_type": "code",
        "colab": {
          "base_uri": "https://localhost:8080/",
          "height": 513
        },
        "outputId": "74ce16cc-984e-4e57-ebf0-11fad5b34cb0"
      },
      "source": [
        "print(classification_report(y_test,y_pred))\n"
      ],
      "execution_count": 373,
      "outputs": [
        {
          "output_type": "stream",
          "text": [
            "              precision    recall  f1-score   support\n",
            "\n",
            "           0       0.14      0.24      0.17        21\n",
            "           1       0.19      0.24      0.21        21\n",
            "           2       0.14      0.14      0.14        22\n",
            "           3       0.21      0.24      0.22        21\n",
            "           4       0.14      0.14      0.14        22\n",
            "           5       0.09      0.14      0.11        21\n",
            "           6       0.18      0.23      0.20        22\n",
            "           7       0.22      0.27      0.24        22\n",
            "           8       0.22      0.29      0.25        21\n",
            "           9       0.07      0.05      0.06        22\n",
            "          10       0.47      0.64      0.54        22\n",
            "          11       0.23      0.33      0.27        21\n",
            "          12       0.12      0.09      0.10        22\n",
            "          13       0.12      0.09      0.11        22\n",
            "          14       0.11      0.09      0.10        22\n",
            "          15       0.20      0.19      0.20        21\n",
            "          16       0.11      0.05      0.06        22\n",
            "          17       0.18      0.10      0.12        21\n",
            "          18       0.33      0.14      0.19        22\n",
            "          19       0.09      0.05      0.06        22\n",
            "\n",
            "    accuracy                           0.19       432\n",
            "   macro avg       0.18      0.19      0.17       432\n",
            "weighted avg       0.18      0.19      0.17       432\n",
            "\n"
          ],
          "name": "stdout"
        }
      ]
    }
  ]
}